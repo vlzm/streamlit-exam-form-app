{
 "cells": [
  {
   "cell_type": "code",
   "execution_count": 1,
   "metadata": {},
   "outputs": [],
   "source": [
    "import cv2\n",
    "import numpy as np\n",
    "\n",
    "import pandas as pd\n",
    "import fitz\n",
    "import cv2\n",
    "from io import BytesIO\n",
    "from PIL import Image\n",
    "import base64\n",
    "from openai import OpenAI\n",
    "from pydantic import BaseModel\n",
    "import json\n",
    "import numpy as np\n",
    "import traceback\n",
    "from typing import Optional\n",
    "\n",
    "import pandas as pd\n",
    "from openpyxl import Workbook\n",
    "from openpyxl.utils.dataframe import dataframe_to_rows\n",
    "from openpyxl.styles import Alignment, Border, Side, Font\n",
    "\n",
    "from form_class import Form\n",
    "\n",
    "from ui_functions import get_pic_from_pdf, save_to_excel, get_correct_answers, postprocess_raw_output, check_answers, final_styling, extract_text_from_image, transform_json_to_dataframe\n",
    "from ui_functions import promt"
   ]
  },
  {
   "cell_type": "code",
   "execution_count": 32,
   "metadata": {},
   "outputs": [],
   "source": [
    "import cv2\n",
    "import numpy as np\n",
    "\n",
    "def find_black_square_in_roi(img, roi_rect, min_area=500, aspect_tol=0.3):\n",
    "    \"\"\"\n",
    "    Ищет \"чёрный квадрат\" в пределах ROI (x,y,w,h) на картинке img.\n",
    "    Возвращает (cx, cy) - центр найденного квадрата в ГЛОБАЛЬНЫХ координатах img.\n",
    "    Если ничего не найдено, вернёт None.\n",
    "    \"\"\"\n",
    "    x, y, w, h = roi_rect\n",
    "    roi = img[y:y+h, x:x+w]\n",
    "\n",
    "    # gray = cv2.cvtColor(roi, cv2.COLOR_BGR2GRAY)\n",
    "    gray = roi\n",
    "    # Порог подбирайте под конкретное изображение\n",
    "    _, thresh = cv2.threshold(gray, 10, 255, cv2.THRESH_BINARY_INV)\n",
    "\n",
    "    contours, _ = cv2.findContours(thresh, cv2.RETR_EXTERNAL, cv2.CHAIN_APPROX_SIMPLE)\n",
    "    best_area = 0\n",
    "    best_center = None\n",
    "\n",
    "    # visualize the contours\n",
    "    for cnt in contours:\n",
    "        x2, y2, w2, h2 = cv2.boundingRect(cnt)\n",
    "        cv2.rectangle(roi, (x2, y2), (x2 + w2, y2 + h2), (0, 0, 255), 2)\n",
    "\n",
    "    plt.imshow(roi)\n",
    "    plt.show()\n",
    "\n",
    "    for cnt in contours:\n",
    "        x2, y2, w2, h2 = cv2.boundingRect(cnt)\n",
    "\n",
    "\n",
    "\n",
    "        area = w2 * h2\n",
    "        if area < min_area:\n",
    "            continue\n",
    "        aspect = w2 / float(h2)\n",
    "        if not (1 - aspect_tol <= aspect <= 1 + aspect_tol):\n",
    "            continue\n",
    "\n",
    "        if area > best_area:\n",
    "            best_area = area\n",
    "            # Центр в локальной (ROI) системе координат\n",
    "            cx_local = x2 + w2/2\n",
    "            cy_local = y2 + h2/2\n",
    "            # Переводим в глобальные координаты изображения\n",
    "            best_center = (x + cx_local, y + cy_local)\n",
    "\n",
    "    return best_center\n"
   ]
  },
  {
   "cell_type": "code",
   "execution_count": 91,
   "metadata": {},
   "outputs": [],
   "source": [
    "def get_template_corners():\n",
    "    \"\"\"\n",
    "    Возвращает (template_img, [ (x1,y1,w1,h1), (x2,y2,w2,h2), (x3,y3,w3,h3), (x4,y4,w4,h4) ])\n",
    "    Это заранее известные (или сохранённые) ROI черных квадратов в шаблоне.\n",
    "    \"\"\"\n",
    "    template_img = cv2.imread(\"template.jpg\")\n",
    "    # Допустим, жёстко зашили или загрузили из JSON.\n",
    "    # Порядок: [TL, TR, BL, BR]\n",
    "    scale_x = 170\n",
    "    scale_y = 170\n",
    "    scale_w = 0\n",
    "    scale_h = 0\n",
    "\n",
    "    corners_rects = [\n",
    "        (260 - scale_x, 170 - scale_y, 100 + 1*scale_w + 2*scale_x, 100 + 1*scale_h + 2*scale_y),\n",
    "        (3230 - scale_x, 170 - scale_y, 100 + 1*scale_w + 2*scale_x, 100 + 1*scale_h + 2*scale_y),  # правый верх\n",
    "        (260 - scale_x, 4810 - scale_y, 100 + 1*scale_w + 2*scale_x, 100 + 1*scale_h + 2*scale_y), # левый низ\n",
    "        (3230 - scale_x, 4810 - scale_y, 100 + 1*scale_w + 2*scale_x, 100 + 1*scale_h + 2*scale_y) # правый низ\n",
    "\n",
    "    ]\n",
    "\n",
    "    return template_img, corners_rects\n"
   ]
  },
  {
   "cell_type": "code",
   "execution_count": 92,
   "metadata": {},
   "outputs": [
    {
     "data": {
      "image/png": "[encoded data removed]",
      "text/plain": [
       "<Figure size 640x480 with 1 Axes>"
      ]
     },
     "metadata": {},
     "output_type": "display_data"
    },
    {
     "name": "stdout",
     "output_type": "stream",
     "text": [
      "Не смогли найти квадрат в ROI: (90, 0, 440, 440)\n"
     ]
    }
   ],
   "source": [
    "def align_page_using_fixed_rois(page_img, output_path):\n",
    "    # 1. Загружаем шаблон\n",
    "    template_img, corners_rects = get_template_corners()  # Ваши заранее зашитые ROI\n",
    "    H, W = template_img.shape[:2]\n",
    "\n",
    "\n",
    "    # 2. Загружаем заполненный бланк\n",
    "    h2, w2 = page_img.shape[:2]\n",
    "\n",
    "    # Приводим страницу к размеру (W, H) (простой ресайз).\n",
    "    # Можно сделать иначе: подгонять по одной стороне, если вам важно соотношение сторон и т.д.\n",
    "    page_img_resized = cv2.resize(page_img, (W, H), interpolation=cv2.INTER_AREA)\n",
    "\n",
    "    # 3. Для каждого из 4 ROI на шаблоне найдём центр квадрата в шаблоне и в page\n",
    "    template_points = []\n",
    "    page_points = []\n",
    "\n",
    "    for (rx, ry, rw, rh) in corners_rects:\n",
    "        # 3.1. Центр ROI в шаблоне (или можно найти сам \"чёрный квадрат\" внутри шаблона,\n",
    "        # но вы говорите, что эти ROI и так точно \"угловые квадраты\").\n",
    "        cx_template = rx + rw/2\n",
    "        cy_template = ry + rh/2\n",
    "        template_points.append((cx_template, cy_template))\n",
    "\n",
    "        # 3.2. Ищем этот же квадрат на page (уже ресайзнутом),\n",
    "        #      но в той же области (rx, ry, rw, rh).\n",
    "        center_page = find_black_square_in_roi(page_img_resized, (rx, ry, rw, rh))\n",
    "        if center_page is None:\n",
    "            # Если не нашли, можно аварийно завершить\n",
    "            print(\"Не смогли найти квадрат в ROI:\", (rx, ry, rw, rh))\n",
    "            return\n",
    "\n",
    "        page_points.append(center_page)\n",
    "\n",
    "    # Преобразуем в формат для getPerspectiveTransform\n",
    "    src_pts = np.float32(page_points).reshape(-1,1,2)\n",
    "    dst_pts = np.float32(template_points).reshape(-1,1,2)\n",
    "\n",
    "    # 4. Находим перспективное преобразование (page -> template)\n",
    "    M = cv2.getPerspectiveTransform(src_pts, dst_pts)\n",
    "\n",
    "    # 5. Применяем warpPerspective к (не-ресайзнутой!) оригинальной page или к page_img_resized?\n",
    "    #    Зависит от того, что вы считаете «истинным» входом.\n",
    "    #    Чаще разумнее warp'ить исходный page_img, чтобы не терять детализацию.\n",
    "    #    Но тогда нужно учесть, что точки, которые мы нашли в page_img_resized,\n",
    "    #    нужно обратно «перевести» в координаты оригинального page_img.\n",
    "    #\n",
    "    #    Проще сначала вычислить «масштаб», а потом домножить все page_points, чтобы они\n",
    "    #    относились к оригиналу. Примерно так:\n",
    "    scale_x = W / float(w2)\n",
    "    scale_y = H / float(h2)\n",
    "    # Если мы делали resize(page, (W,H)), значит масштаб по x = W/w2, y = H/h2.\n",
    "    # Тогда реальные координаты в original_page = (cx / scale_x, cy / scale_y).\n",
    "\n",
    "    page_points_orig = []\n",
    "    for (cx, cy) in page_points:\n",
    "        real_x = cx / scale_x\n",
    "        real_y = cy / scale_y\n",
    "        page_points_orig.append((real_x, real_y))\n",
    "\n",
    "    src_pts_orig = np.float32(page_points_orig).reshape(-1,1,2)\n",
    "    dst_pts_orig = np.float32(template_points).reshape(-1,1,2)\n",
    "\n",
    "    M_orig = cv2.getPerspectiveTransform(src_pts_orig, dst_pts_orig)\n",
    "    original_aligned = cv2.warpPerspective(page_img, M_orig, (W, H))\n",
    "\n",
    "    cv2.imwrite(output_path, original_aligned)\n",
    "    print(f\"Сохранено выравненное изображение: {output_path}\")\n",
    "\n",
    "    return original_aligned\n",
    "\n",
    "pdf_path = \"test_pics/valid_format/valid_questions.pdf\"\n",
    "pdf_bytes = open(pdf_path, 'rb').read()\n",
    "pdf_document = fitz.open(stream=pdf_bytes, filetype=\"pdf\")\n",
    "num_pages = pdf_document.page_count\n",
    "cur_pic = get_pic_from_pdf(pdf_bytes, 0, zoom=1.1)\n",
    "\n",
    "aligned_pic = align_page_using_fixed_rois(cur_pic, \"aligned_pic.jpg\")\n"
   ]
  },
  {
   "cell_type": "code",
   "execution_count": 93,
   "metadata": {},
   "outputs": [
    {
     "data": {
      "image/png": "[encoded data removed]",
      "text/plain": [
       "<Figure size 640x480 with 1 Axes>"
      ]
     },
     "metadata": {},
     "output_type": "display_data"
    }
   ],
   "source": [
    "template_img, corners_rects = get_template_corners()  # Ваши заранее зашитые ROI\n",
    "H, W = template_img.shape[:2]\n",
    "\n",
    "cur_pic = get_pic_from_pdf(pdf_bytes, 0, zoom=1.1)\n",
    "cur_pic = cv2.resize(cur_pic, (W, H), interpolation=cv2.INTER_AREA)\n",
    "scale_x = 170\n",
    "scale_y = 170\n",
    "scale_w = 0\n",
    "scale_h = 0\n",
    "\n",
    "x, y, w, h = 260 - scale_x, 170 - scale_y, 100 + 1*scale_w + 2*scale_x, 100 + 1*scale_h + 2*scale_y\n",
    "\n",
    "roi = cur_pic[y:y+h, x:x+w].copy()\n",
    "\n",
    "\n",
    "\n",
    "\n",
    "\n",
    "plt.imshow(roi)\n",
    "plt.show()\n",
    "\n",
    "\n"
   ]
  },
  {
   "cell_type": "code",
   "execution_count": 85,
   "metadata": {},
   "outputs": [
    {
     "data": {
      "image/png": "[encoded data removed]",
      "text/plain": [
       "<Figure size 640x480 with 1 Axes>"
      ]
     },
     "metadata": {},
     "output_type": "display_data"
    }
   ],
   "source": [
    "template_img, corners_rects = get_template_corners()  # Ваши заранее зашитые ROI\n",
    "H, W = template_img.shape[:2]\n",
    "\n",
    "cur_pic = get_pic_from_pdf(pdf_bytes, 0, zoom=1.1)\n",
    "cur_pic = cv2.resize(cur_pic, (W, H), interpolation=cv2.INTER_AREA)\n",
    "scale_x = 150\n",
    "scale_y = 150\n",
    "scale_w = 0\n",
    "scale_h = 0\n",
    "\n",
    "\n",
    "\n",
    "\n",
    "x, y, w, h = 260 - scale_x, 170 - scale_y, 100 + 1*scale_w + 2*scale_x, 100 + 1*scale_h + 2*scale_y\n",
    "roi = template_img[y:y+h, x:x+w].copy()\n",
    "\n",
    "\n",
    "\n",
    "\n",
    "\n",
    "\n",
    "\n",
    "plt.imshow(roi)\n",
    "plt.show()"
   ]
  },
  {
   "cell_type": "code",
   "execution_count": 54,
   "metadata": {},
   "outputs": [
    {
     "data": {
      "text/plain": [
       "250"
      ]
     },
     "execution_count": 54,
     "metadata": {},
     "output_type": "execute_result"
    }
   ],
   "source": [
    "x"
   ]
  },
  {
   "cell_type": "code",
   "execution_count": null,
   "metadata": {},
   "outputs": [],
   "source": []
  },
  {
   "cell_type": "code",
   "execution_count": null,
   "metadata": {},
   "outputs": [],
   "source": []
  },
  {
   "cell_type": "code",
   "execution_count": null,
   "metadata": {},
   "outputs": [],
   "source": []
  },
  {
   "cell_type": "code",
   "execution_count": null,
   "metadata": {},
   "outputs": [],
   "source": []
  },
  {
   "cell_type": "code",
   "execution_count": 23,
   "metadata": {},
   "outputs": [
    {
     "data": {
      "image/png": "[encoded data removed]",
      "text/plain": [
       "<Figure size 1000x1000 with 1 Axes>"
      ]
     },
     "metadata": {},
     "output_type": "display_data"
    }
   ],
   "source": [
    "scale = 60\n",
    "corners_rects = [\n",
    "    (260 - scale, 170 - scale, 100 + 2*scale, 100 + 2*scale),\n",
    "    (3230 - scale, 170 - scale, 100 + 2*scale, 100 + 2*scale),  # правый верх\n",
    "    (260 - scale, 4810 - scale, 100 + 2*scale, 100 + 2*scale), # левый низ\n",
    "    (3230 - scale, 4810 - scale, 100 + 2*scale, 100 + 2*scale) # правый низ\n",
    "]\n",
    "\n",
    "\n",
    "\n",
    "\n",
    "template_img = cv2.imread(\"template.jpg\")\n",
    "\n",
    "# visualize the corners\n",
    "for (x, y, w, h) in corners_rects:\n",
    "    cv2.rectangle(template_img, (x, y), (x + w, y + h), (0, 0, 255), 2)\n",
    "import matplotlib.pyplot as plt\n",
    "plt.figure(figsize=(10, 10))\n",
    "plt.imshow(template_img)\n",
    "plt.show()\n",
    "\n"
   ]
  },
  {
   "cell_type": "code",
   "execution_count": null,
   "metadata": {},
   "outputs": [],
   "source": [
    "corners_rects = [\n",
    "    (260, 170, 100, 100), # верхний левый\n",
    "    (3230, 170, 100, 100),  # верхний правый\n",
    "    (260, 4810, 100, 100), # нижний левый\n",
    "    (3230, 4810, 100, 100) # нижний правый\n",
    "\n",
    "]\n",
    "\n",
    "x, y, w, h = 260, 170, 100, 100\n"
   ]
  },
  {
   "cell_type": "code",
   "execution_count": null,
   "metadata": {},
   "outputs": [],
   "source": []
  },
  {
   "cell_type": "code",
   "execution_count": null,
   "metadata": {},
   "outputs": [],
   "source": []
  },
  {
   "cell_type": "code",
   "execution_count": 155,
   "metadata": {},
   "outputs": [
    {
     "name": "stdout",
     "output_type": "stream",
     "text": [
      "260.0 170.0\n",
      "3230.0 170.0\n",
      "260.0 4810.0\n",
      "3230.0 4810.0\n"
     ]
    }
   ],
   "source": [
    "for tx, ty in corners_template:\n",
    "    print(tx, ty)\n"
   ]
  },
  {
   "cell_type": "code",
   "execution_count": 161,
   "metadata": {},
   "outputs": [
    {
     "data": {
      "text/plain": [
       "13"
      ]
     },
     "execution_count": 161,
     "metadata": {},
     "output_type": "execute_result"
    }
   ],
   "source": [
    "num_pages\n"
   ]
  },
  {
   "cell_type": "code",
   "execution_count": null,
   "metadata": {},
   "outputs": [
    {
     "name": "stdout",
     "output_type": "stream",
     "text": [
      "0\n",
      "len 4\n",
      "1\n",
      "len 4\n",
      "2\n",
      "len 4\n",
      "3\n",
      "len 4\n",
      "4\n",
      "len 4\n",
      "5\n",
      "len 4\n",
      "6\n",
      "len 4\n",
      "7\n",
      "len 4\n",
      "8\n",
      "len 4\n",
      "9\n",
      "len 4\n",
      "10\n",
      "len 4\n",
      "11\n",
      "len 4\n",
      "12\n",
      "len 4\n"
     ]
    }
   ],
   "source": [
    "import cv2\n",
    "import numpy as np\n",
    "\n",
    "# Загружаем изображения (предположим, что они уже загружены)\n",
    "for i in range(num_pages):\n",
    "    print(i)\n",
    "    cur_pic = get_pic_from_pdf(pdf_bytes, i, zoom=2.0)\n",
    "    # cur_pic = cv2.imread(\"template.jpg\")\n",
    "    template_img = cv2.imread(\"template.jpg\")\n",
    "\n",
    "    corners_template = np.float32([\n",
    "        (260 , 170),  # Верхний левый\n",
    "        (3230 , 170),  # Верхний правый\n",
    "        (260 , 4810),  # Нижний левый\n",
    "\n",
    "        (3230, 4810)  # Нижний правый\n",
    "    ])\n",
    "    H, W = template_img.shape[:2]\n",
    "    cut_pic = cv2.resize(cur_pic, (W, H), interpolation=cv2.INTER_AREA)\n",
    "\n",
    "    def get_contours(image):\n",
    "        # Загрузка изображения\n",
    "\n",
    "        # Инвертируем изображение (пунктирные линии должны быть белыми)\n",
    "        _, binary = cv2.threshold(image, 230, 255, cv2.THRESH_BINARY_INV)\n",
    "        # print(binary.shape)\n",
    "\n",
    "        # Применяем размытие, чтобы убрать шум\n",
    "        blurred = cv2.GaussianBlur(binary, (5, 5), 0)\n",
    "        # print(blurred.shape)\n",
    "\n",
    "        # Используем морфологию для выделения прямоугольных структур\n",
    "        kernel = cv2.getStructuringElement(cv2.MORPH_RECT, (3, 3))\n",
    "        processed = cv2.morphologyEx(blurred, cv2.MORPH_CLOSE, kernel, iterations=1)\n",
    "        # print(processed.shape)\n",
    "\n",
    "\n",
    "        # Поиск контуров\n",
    "        contours, _ = cv2.findContours(processed, cv2.RETR_TREE, cv2.CHAIN_APPROX_SIMPLE)\n",
    "        contours = sorted(contours, key=lambda x: x[0][0][1])\n",
    "        contours = sorted(contours, key=lambda x: x[0][0][0])\n",
    "        contours = sorted(contours, key=lambda c: (cv2.boundingRect(c)[1], cv2.boundingRect(c)[0]))\n",
    "\n",
    "        # Копия изображения для отображения результатов\n",
    "        output = cv2.cvtColor(image, cv2.COLOR_GRAY2BGR)\n",
    "        # print(output.shape)\n",
    "\n",
    "        # Фильтруем и выделяем только прямоугольные блоки\n",
    "        contours_valid = []\n",
    "        for contour in contours:\n",
    "            x, y, w, h = cv2.boundingRect(contour)\n",
    "            # Условие для фильтрации блоков по размеру\n",
    "            if 100 < w < 150 and 100 < h < 200:  # Подстраивайте размеры под бланк\n",
    "                contours_valid.append(contour)\n",
    "                cv2.rectangle(output, (x, y), (x + w, y + h), (0, 255, 0), 2)\n",
    "        \n",
    "        return contours_valid, output\n",
    "\n",
    "    # Функция для нахождения квадратов в cut_pic\n",
    "    def find_squares(image, template_corners):\n",
    "        # gray = cv2.cvtColor(image, cv2.COLOR_BGR2GRAY)\n",
    "        gray = image\n",
    "\n",
    "        contours, output = get_contours(gray)\n",
    "        # print(len(contours))\n",
    "        # plt.figure(figsize=(10, 10))\n",
    "        # plt.imshow(cv2.cvtColor(output, cv2.COLOR_BGR2RGB))\n",
    "        # plt.axis('off')\n",
    "        # plt.show()\n",
    "\n",
    "        gray = cv2.cvtColor(gray, cv2.COLOR_GRAY2BGR)\n",
    "        # visualize the contours\n",
    "        for cnt in contours:\n",
    "            x, y, w, h = cv2.boundingRect(cnt)\n",
    "            cv2.rectangle(gray, (x, y), (x + w, y + h), (0, 255, 0), 2)\n",
    "\n",
    "\n",
    "        # plt.figure(figsize=(10, 10))\n",
    "        # plt.imshow(cv2.cvtColor(gray, cv2.COLOR_BGR2RGB))\n",
    "        # plt.axis('off')\n",
    "        # plt.show()\n",
    "\n",
    "        global test_gray\n",
    "        test_gray = gray\n",
    "\n",
    "        global test_output\n",
    "        test_output = output\n",
    "        found_corners = []\n",
    "        for cnt in contours:\n",
    "\n",
    "\n",
    "            x, y, w, h = cv2.boundingRect(cnt)\n",
    "            center = (x + w // 2, y + h // 2)\n",
    "\n",
    "            # Фильтруем по размеру и положению\n",
    "            for tx, ty in template_corners:\n",
    "                # print(tx, ty, center[0], center[1])\n",
    "                if abs(tx - center[0]) < 250 and abs(ty - center[1]) < 200:\n",
    "                    # print(tx, ty, center[0], center[1])\n",
    "                    # print(\"found\", tx, ty, center[0], center[1])\n",
    "                    found_corners.append(center)\n",
    "                    break\n",
    "\n",
    "\n",
    "\n",
    "\n",
    "\n",
    "\n",
    "        # sort the found_corners by x and y\n",
    "        found_corners = sorted(found_corners, key=lambda x: x[0])\n",
    "        found_corners = sorted(found_corners, key=lambda x: x[1])\n",
    "        print('len', len(found_corners))\n",
    "        return np.float32(found_corners) if len(found_corners) == 4 else None\n",
    "\n",
    "\n",
    "\n",
    "\n",
    "    # Находим квадраты в cut_pic\n",
    "    corners_cut = find_squares(cut_pic, corners_template)\n",
    "\n",
    "    if corners_cut is not None:\n",
    "        # Вычисляем матрицу преобразования\n",
    "        matrix = cv2.getPerspectiveTransform(corners_cut, corners_template)\n",
    "        \n",
    "        # Применяем преобразование\n",
    "        aligned_cut_pic = cv2.warpPerspective(cut_pic, matrix, (template_img.shape[1], template_img.shape[0]))\n",
    "\n",
    "        # Сохраняем или показываем результат\n",
    "        cv2.imwrite(\"aligned_cut_pic.jpg\", aligned_cut_pic)\n",
    "\n",
    "    else:\n",
    "        print(\"Не удалось найти все 4 квадрата в cut_pic\")\n",
    "\n",
    "\n"
   ]
  },
  {
   "cell_type": "code",
   "execution_count": null,
   "metadata": {},
   "outputs": [],
   "source": [
    "260.0 170.0\n",
    "3230.0 170.0\n",
    "260.0 4810.0\n",
    "3230.0 4810.0"
   ]
  },
  {
   "cell_type": "code",
   "execution_count": 136,
   "metadata": {},
   "outputs": [
    {
     "data": {
      "text/plain": [
       "(5051, 3571, 3)"
      ]
     },
     "execution_count": 136,
     "metadata": {},
     "output_type": "execute_result"
    }
   ],
   "source": [
    "cur_pic.shape"
   ]
  },
  {
   "cell_type": "code",
   "execution_count": 138,
   "metadata": {},
   "outputs": [
    {
     "data": {
      "text/plain": [
       "(5051, 3571, 3)"
      ]
     },
     "execution_count": 138,
     "metadata": {},
     "output_type": "execute_result"
    }
   ],
   "source": [
    "template_img.shape"
   ]
  },
  {
   "cell_type": "code",
   "execution_count": null,
   "metadata": {},
   "outputs": [],
   "source": [
    "    global test_gray\n",
    "    test_gray = gray\n",
    "\n",
    "    global test_output\n",
    "    test_output = output"
   ]
  },
  {
   "cell_type": "code",
   "execution_count": 133,
   "metadata": {},
   "outputs": [
    {
     "data": {
      "text/plain": [
       "(5051, 3571)"
      ]
     },
     "execution_count": 133,
     "metadata": {},
     "output_type": "execute_result"
    }
   ],
   "source": [
    "test_gray.shape\n"
   ]
  },
  {
   "cell_type": "code",
   "execution_count": 134,
   "metadata": {},
   "outputs": [
    {
     "data": {
      "text/plain": [
       "(5051, 3571, 3)"
      ]
     },
     "execution_count": 134,
     "metadata": {},
     "output_type": "execute_result"
    }
   ],
   "source": [
    "test_output.shape\n"
   ]
  },
  {
   "cell_type": "code",
   "execution_count": null,
   "metadata": {},
   "outputs": [],
   "source": [
    "cur_pic = get_pic_from_pdf(pdf_bytes, i, zoom=2.0)\n",
    "# cur_pic = cv2.imread(\"template.jpg\")\n",
    "template_img = cv2.imread(\"template.jpg\")\n",
    "\n",
    "def get_alligned_pic(cur_pic, template_img):\n",
    "    corners_template = np.float32([\n",
    "        (260 , 170),  # Верхний левый\n",
    "        (3230 , 170),  # Верхний правый\n",
    "        (260 , 4810),  # Нижний левый\n",
    "\n",
    "        (3230, 4810)  # Нижний правый\n",
    "    ])\n",
    "    H, W = template_img.shape[:2]\n",
    "    cut_pic = cv2.resize(cur_pic, (W, H), interpolation=cv2.INTER_AREA)\n",
    "\n",
    "    def get_contours(image):\n",
    "        # Загрузка изображения\n",
    "\n",
    "        # Инвертируем изображение (пунктирные линии должны быть белыми)\n",
    "        _, binary = cv2.threshold(image, 230, 255, cv2.THRESH_BINARY_INV)\n",
    "        # print(binary.shape)\n",
    "\n",
    "        # Применяем размытие, чтобы убрать шум\n",
    "        blurred = cv2.GaussianBlur(binary, (5, 5), 0)\n",
    "        # print(blurred.shape)\n",
    "\n",
    "        # Используем морфологию для выделения прямоугольных структур\n",
    "        kernel = cv2.getStructuringElement(cv2.MORPH_RECT, (3, 3))\n",
    "        processed = cv2.morphologyEx(blurred, cv2.MORPH_CLOSE, kernel, iterations=1)\n",
    "        # print(processed.shape)\n",
    "\n",
    "\n",
    "        # Поиск контуров\n",
    "        contours, _ = cv2.findContours(processed, cv2.RETR_TREE, cv2.CHAIN_APPROX_SIMPLE)\n",
    "        contours = sorted(contours, key=lambda x: x[0][0][1])\n",
    "        contours = sorted(contours, key=lambda x: x[0][0][0])\n",
    "        contours = sorted(contours, key=lambda c: (cv2.boundingRect(c)[1], cv2.boundingRect(c)[0]))\n",
    "\n",
    "        # Копия изображения для отображения результатов\n",
    "        output = cv2.cvtColor(image, cv2.COLOR_GRAY2BGR)\n",
    "        # print(output.shape)\n",
    "\n",
    "        # Фильтруем и выделяем только прямоугольные блоки\n",
    "        contours_valid = []\n",
    "        for contour in contours:\n",
    "            x, y, w, h = cv2.boundingRect(contour)\n",
    "            # Условие для фильтрации блоков по размеру\n",
    "            if 100 < w < 150 and 100 < h < 200:  # Подстраивайте размеры под бланк\n",
    "                contours_valid.append(contour)\n",
    "                cv2.rectangle(output, (x, y), (x + w, y + h), (0, 255, 0), 2)\n",
    "        \n",
    "        return contours_valid, output\n",
    "\n",
    "    # Функция для нахождения квадратов в cut_pic\n",
    "    def find_squares(image, template_corners):\n",
    "        # gray = cv2.cvtColor(image, cv2.COLOR_BGR2GRAY)\n",
    "        gray = image\n",
    "\n",
    "        contours, output = get_contours(gray)\n",
    "        # print(len(contours))\n",
    "        # plt.figure(figsize=(10, 10))\n",
    "        # plt.imshow(cv2.cvtColor(output, cv2.COLOR_BGR2RGB))\n",
    "        # plt.axis('off')\n",
    "        # plt.show()\n",
    "\n",
    "        gray = cv2.cvtColor(gray, cv2.COLOR_GRAY2BGR)\n",
    "        # visualize the contours\n",
    "        for cnt in contours:\n",
    "            x, y, w, h = cv2.boundingRect(cnt)\n",
    "            cv2.rectangle(gray, (x, y), (x + w, y + h), (0, 255, 0), 2)\n",
    "\n",
    "\n",
    "        # plt.figure(figsize=(10, 10))\n",
    "        # plt.imshow(cv2.cvtColor(gray, cv2.COLOR_BGR2RGB))\n",
    "        # plt.axis('off')\n",
    "        # plt.show()\n",
    "\n",
    "        global test_gray\n",
    "        test_gray = gray\n",
    "\n",
    "        global test_output\n",
    "        test_output = output\n",
    "        found_corners = []\n",
    "        for cnt in contours:\n",
    "\n",
    "\n",
    "            x, y, w, h = cv2.boundingRect(cnt)\n",
    "            center = (x + w // 2, y + h // 2)\n",
    "\n",
    "            # Фильтруем по размеру и положению\n",
    "            for tx, ty in template_corners:\n",
    "                # print(tx, ty, center[0], center[1])\n",
    "                if abs(tx - center[0]) < 250 and abs(ty - center[1]) < 200:\n",
    "                    # print(tx, ty, center[0], center[1])\n",
    "                    # print(\"found\", tx, ty, center[0], center[1])\n",
    "                    found_corners.append(center)\n",
    "                    break\n",
    "\n",
    "\n",
    "\n",
    "\n",
    "\n",
    "\n",
    "        # sort the found_corners by x and y\n",
    "        found_corners = sorted(found_corners, key=lambda x: x[0])\n",
    "        found_corners = sorted(found_corners, key=lambda x: x[1])\n",
    "        print('len', len(found_corners))\n",
    "        return np.float32(found_corners) if len(found_corners) == 4 else None\n",
    "\n",
    "\n",
    "\n",
    "\n",
    "    # Находим квадраты в cut_pic\n",
    "    corners_cut = find_squares(cut_pic, corners_template)\n",
    "\n",
    "    if corners_cut is not None:\n",
    "        # Вычисляем матрицу преобразования\n",
    "        matrix = cv2.getPerspectiveTransform(corners_cut, corners_template)\n",
    "        \n",
    "        # Применяем преобразование\n",
    "        aligned_cut_pic = cv2.warpPerspective(cut_pic, matrix, (template_img.shape[1], template_img.shape[0]))\n",
    "\n",
    "        # Сохраняем или показываем результат\n",
    "        cv2.imwrite(\"aligned_cut_pic.jpg\", aligned_cut_pic)\n",
    "\n",
    "    else:\n",
    "        print(\"Не удалось найти все 4 квадрата в cut_pic\")\n",
    "\n",
    "    return aligned_cut_pic\n"
   ]
  }
 ],
 "metadata": {
  "kernelspec": {
   "display_name": ".venv",
   "language": "python",
   "name": "python3"
  },
  "language_info": {
   "codemirror_mode": {
    "name": "ipython",
    "version": 3
   },
   "file_extension": ".py",
   "mimetype": "text/x-python",
   "name": "python",
   "nbconvert_exporter": "python",
   "pygments_lexer": "ipython3",
   "version": "3.12.5"
  }
 },
 "nbformat": 4,
 "nbformat_minor": 2
}
