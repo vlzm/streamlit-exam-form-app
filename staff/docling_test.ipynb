{
 "cells": [
  {
   "cell_type": "code",
   "execution_count": 1,
   "metadata": {},
   "outputs": [
    {
     "name": "stdout",
     "output_type": "stream",
     "text": [
      "^C\n",
      "Note: you may need to restart the kernel to use updated packages.\n"
     ]
    },
    {
     "name": "stderr",
     "output_type": "stream",
     "text": [
      "\n",
      "[notice] A new release of pip is available: 24.2 -> 25.0\n",
      "[notice] To update, run: python.exe -m pip install --upgrade pip\n"
     ]
    },
    {
     "name": "stdout",
     "output_type": "stream",
     "text": [
      "Collecting docling\n",
      "  Downloading docling-2.16.0-py3-none-any.whl.metadata (7.8 kB)\n",
      "Collecting beautifulsoup4<5.0.0,>=4.12.3 (from docling)\n",
      "  Using cached beautifulsoup4-4.12.3-py3-none-any.whl.metadata (3.8 kB)\n",
      "Requirement already satisfied: certifi>=2024.7.4 in c:\\users\\zamko\\documents\\graphs\\good_structure\\.venv\\lib\\site-packages (from docling) (2024.8.30)\n",
      "Collecting deepsearch-glm<2.0.0,>=1.0.0 (from docling)\n",
      "  Downloading deepsearch_glm-1.0.0-cp312-cp312-win_amd64.whl.metadata (11 kB)\n",
      "Collecting docling-core<3.0.0,>=2.15.1 (from docling-core[chunking]<3.0.0,>=2.15.1->docling)\n",
      "  Downloading docling_core-2.15.1-py3-none-any.whl.metadata (5.7 kB)\n",
      "Collecting docling-ibm-models<4.0.0,>=3.3.0 (from docling)\n",
      "  Downloading docling_ibm_models-3.3.0-py3-none-any.whl.metadata (7.3 kB)\n",
      "Collecting docling-parse<4.0.0,>=3.1.0 (from docling)\n",
      "  Downloading docling_parse-3.1.2-cp312-cp312-win_amd64.whl.metadata (7.5 kB)\n",
      "Requirement already satisfied: easyocr<2.0,>=1.7 in c:\\users\\zamko\\documents\\graphs\\good_structure\\.venv\\lib\\site-packages (from docling) (1.7.2)\n",
      "Collecting filetype<2.0.0,>=1.2.0 (from docling)\n",
      "  Using cached filetype-1.2.0-py2.py3-none-any.whl.metadata (6.5 kB)\n",
      "Collecting huggingface_hub<1,>=0.23 (from docling)\n",
      "  Using cached huggingface_hub-0.27.1-py3-none-any.whl.metadata (13 kB)\n",
      "Requirement already satisfied: lxml<6.0.0,>=4.0.0 in c:\\users\\zamko\\documents\\graphs\\good_structure\\.venv\\lib\\site-packages (from docling) (5.3.0)\n",
      "Collecting marko<3.0.0,>=2.1.2 (from docling)\n",
      "  Downloading marko-2.1.2-py3-none-any.whl.metadata (4.5 kB)\n",
      "Requirement already satisfied: openpyxl<4.0.0,>=3.1.5 in c:\\users\\zamko\\documents\\graphs\\good_structure\\.venv\\lib\\site-packages (from docling) (3.1.5)\n",
      "Requirement already satisfied: pandas<3.0.0,>=2.1.4 in c:\\users\\zamko\\documents\\graphs\\good_structure\\.venv\\lib\\site-packages (from docling) (2.2.2)\n",
      "Requirement already satisfied: pillow<11.0.0,>=10.0.0 in c:\\users\\zamko\\documents\\graphs\\good_structure\\.venv\\lib\\site-packages (from docling) (10.2.0)\n",
      "Requirement already satisfied: pydantic<3.0.0,>=2.0.0 in c:\\users\\zamko\\documents\\graphs\\good_structure\\.venv\\lib\\site-packages (from docling) (2.10.3)\n",
      "Collecting pydantic-settings<3.0.0,>=2.3.0 (from docling)\n",
      "  Downloading pydantic_settings-2.7.1-py3-none-any.whl.metadata (3.5 kB)\n",
      "Collecting pypdfium2<5.0.0,>=4.30.0 (from docling)\n",
      "  Using cached pypdfium2-4.30.1-py3-none-win_amd64.whl.metadata (48 kB)\n",
      "Requirement already satisfied: python-docx<2.0.0,>=1.1.2 in c:\\users\\zamko\\documents\\graphs\\good_structure\\.venv\\lib\\site-packages (from docling) (1.1.2)\n",
      "Collecting python-pptx<2.0.0,>=1.0.2 (from docling)\n",
      "  Downloading python_pptx-1.0.2-py3-none-any.whl.metadata (2.5 kB)\n",
      "Requirement already satisfied: requests<3.0.0,>=2.32.2 in c:\\users\\zamko\\documents\\graphs\\good_structure\\.venv\\lib\\site-packages (from docling) (2.32.3)\n",
      "Collecting rtree<2.0.0,>=1.3.0 (from docling)\n",
      "  Using cached Rtree-1.3.0-py3-none-win_amd64.whl.metadata (2.1 kB)\n",
      "Requirement already satisfied: scipy<2.0.0,>=1.6.0 in c:\\users\\zamko\\documents\\graphs\\good_structure\\.venv\\lib\\site-packages (from docling) (1.14.1)\n",
      "Collecting typer<0.13.0,>=0.12.5 (from docling)\n",
      "  Downloading typer-0.12.5-py3-none-any.whl.metadata (15 kB)\n",
      "Collecting soupsieve>1.2 (from beautifulsoup4<5.0.0,>=4.12.3->docling)\n",
      "  Using cached soupsieve-2.6-py3-none-any.whl.metadata (4.6 kB)\n",
      "Collecting pywin32<308,>=307 (from deepsearch-glm<2.0.0,>=1.0.0->docling)\n",
      "  Using cached pywin32-307-cp312-cp312-win_amd64.whl.metadata (8.3 kB)\n",
      "Collecting jsonref<2.0.0,>=1.1.0 (from docling-core<3.0.0,>=2.15.1->docling-core[chunking]<3.0.0,>=2.15.1->docling)\n",
      "  Downloading jsonref-1.1.0-py3-none-any.whl.metadata (2.7 kB)\n",
      "Requirement already satisfied: jsonschema<5.0.0,>=4.16.0 in c:\\users\\zamko\\documents\\graphs\\good_structure\\.venv\\lib\\site-packages (from docling-core<3.0.0,>=2.15.1->docling-core[chunking]<3.0.0,>=2.15.1->docling) (4.23.0)\n",
      "Collecting pillow<11.0.0,>=10.0.0 (from docling)\n",
      "  Using cached pillow-10.4.0-cp312-cp312-win_amd64.whl.metadata (9.3 kB)\n",
      "Requirement already satisfied: pyyaml<7.0.0,>=5.1 in c:\\users\\zamko\\documents\\graphs\\good_structure\\.venv\\lib\\site-packages (from docling-core<3.0.0,>=2.15.1->docling-core[chunking]<3.0.0,>=2.15.1->docling) (6.0.2)\n",
      "Collecting tabulate<0.10.0,>=0.9.0 (from docling-core<3.0.0,>=2.15.1->docling-core[chunking]<3.0.0,>=2.15.1->docling)\n",
      "  Using cached tabulate-0.9.0-py3-none-any.whl.metadata (34 kB)\n",
      "Requirement already satisfied: typing-extensions<5.0.0,>=4.12.2 in c:\\users\\zamko\\documents\\graphs\\good_structure\\.venv\\lib\\site-packages (from docling-core<3.0.0,>=2.15.1->docling-core[chunking]<3.0.0,>=2.15.1->docling) (4.12.2)\n",
      "Collecting semchunk<3.0.0,>=2.2.0 (from docling-core[chunking]<3.0.0,>=2.15.1->docling)\n",
      "  Downloading semchunk-2.2.2-py3-none-any.whl.metadata (10 kB)\n",
      "Collecting transformers<5.0.0,>=4.34.0 (from docling-core[chunking]<3.0.0,>=2.15.1->docling)\n",
      "  Using cached transformers-4.48.1-py3-none-any.whl.metadata (44 kB)\n",
      "Collecting jsonlines<4.0.0,>=3.1.0 (from docling-ibm-models<4.0.0,>=3.3.0->docling)\n",
      "  Downloading jsonlines-3.1.0-py3-none-any.whl.metadata (1.7 kB)\n",
      "Requirement already satisfied: numpy<3.0.0,>=1.24.4 in c:\\users\\zamko\\documents\\graphs\\good_structure\\.venv\\lib\\site-packages (from docling-ibm-models<4.0.0,>=3.3.0->docling) (1.26.3)\n",
      "Requirement already satisfied: opencv-python-headless<5.0.0.0,>=4.6.0.66 in c:\\users\\zamko\\documents\\graphs\\good_structure\\.venv\\lib\\site-packages (from docling-ibm-models<4.0.0,>=3.3.0->docling) (4.10.0.84)\n",
      "Collecting safetensors<1,>=0.4.3 (from safetensors[torch]<1,>=0.4.3->docling-ibm-models<4.0.0,>=3.3.0->docling)\n",
      "  Using cached safetensors-0.5.2-cp38-abi3-win_amd64.whl.metadata (3.9 kB)\n",
      "Requirement already satisfied: torch<3.0.0,>=2.2.2 in c:\\users\\zamko\\documents\\graphs\\good_structure\\.venv\\lib\\site-packages (from docling-ibm-models<4.0.0,>=3.3.0->docling) (2.4.1+cu124)\n",
      "Requirement already satisfied: torchvision<1,>=0 in c:\\users\\zamko\\documents\\graphs\\good_structure\\.venv\\lib\\site-packages (from docling-ibm-models<4.0.0,>=3.3.0->docling) (0.19.1+cu124)\n",
      "Requirement already satisfied: tqdm<5.0.0,>=4.64.0 in c:\\users\\zamko\\documents\\graphs\\good_structure\\.venv\\lib\\site-packages (from docling-ibm-models<4.0.0,>=3.3.0->docling) (4.66.5)\n",
      "Collecting pydantic<3.0.0,>=2.0.0 (from docling)\n",
      "  Downloading pydantic-2.10.6-py3-none-any.whl.metadata (30 kB)\n",
      "Requirement already satisfied: scikit-image in c:\\users\\zamko\\documents\\graphs\\good_structure\\.venv\\lib\\site-packages (from easyocr<2.0,>=1.7->docling) (0.24.0)\n",
      "Requirement already satisfied: python-bidi in c:\\users\\zamko\\documents\\graphs\\good_structure\\.venv\\lib\\site-packages (from easyocr<2.0,>=1.7->docling) (0.6.3)\n",
      "Requirement already satisfied: Shapely in c:\\users\\zamko\\documents\\graphs\\good_structure\\.venv\\lib\\site-packages (from easyocr<2.0,>=1.7->docling) (2.0.6)\n",
      "Requirement already satisfied: pyclipper in c:\\users\\zamko\\documents\\graphs\\good_structure\\.venv\\lib\\site-packages (from easyocr<2.0,>=1.7->docling) (1.3.0.post6)\n",
      "Requirement already satisfied: ninja in c:\\users\\zamko\\documents\\graphs\\good_structure\\.venv\\lib\\site-packages (from easyocr<2.0,>=1.7->docling) (1.11.1.2)\n",
      "Requirement already satisfied: filelock in c:\\users\\zamko\\documents\\graphs\\good_structure\\.venv\\lib\\site-packages (from huggingface_hub<1,>=0.23->docling) (3.13.1)\n",
      "Requirement already satisfied: fsspec>=2023.5.0 in c:\\users\\zamko\\documents\\graphs\\good_structure\\.venv\\lib\\site-packages (from huggingface_hub<1,>=0.23->docling) (2024.2.0)\n",
      "Requirement already satisfied: packaging>=20.9 in c:\\users\\zamko\\documents\\graphs\\good_structure\\.venv\\lib\\site-packages (from huggingface_hub<1,>=0.23->docling) (24.1)\n",
      "Requirement already satisfied: et-xmlfile in c:\\users\\zamko\\documents\\graphs\\good_structure\\.venv\\lib\\site-packages (from openpyxl<4.0.0,>=3.1.5->docling) (2.0.0)\n",
      "Requirement already satisfied: python-dateutil>=2.8.2 in c:\\users\\zamko\\documents\\graphs\\good_structure\\.venv\\lib\\site-packages (from pandas<3.0.0,>=2.1.4->docling) (2.9.0.post0)\n",
      "Requirement already satisfied: pytz>=2020.1 in c:\\users\\zamko\\documents\\graphs\\good_structure\\.venv\\lib\\site-packages (from pandas<3.0.0,>=2.1.4->docling) (2024.1)\n",
      "Requirement already satisfied: tzdata>=2022.7 in c:\\users\\zamko\\documents\\graphs\\good_structure\\.venv\\lib\\site-packages (from pandas<3.0.0,>=2.1.4->docling) (2024.1)\n",
      "Requirement already satisfied: annotated-types>=0.6.0 in c:\\users\\zamko\\documents\\graphs\\good_structure\\.venv\\lib\\site-packages (from pydantic<3.0.0,>=2.0.0->docling) (0.7.0)\n",
      "Collecting pydantic-core==2.27.2 (from pydantic<3.0.0,>=2.0.0->docling)\n",
      "  Using cached pydantic_core-2.27.2-cp312-cp312-win_amd64.whl.metadata (6.7 kB)\n",
      "Collecting python-dotenv>=0.21.0 (from pydantic-settings<3.0.0,>=2.3.0->docling)\n",
      "  Using cached python_dotenv-1.0.1-py3-none-any.whl.metadata (23 kB)\n",
      "Collecting XlsxWriter>=0.5.7 (from python-pptx<2.0.0,>=1.0.2->docling)\n",
      "  Downloading XlsxWriter-3.2.1-py3-none-any.whl.metadata (2.7 kB)\n",
      "Requirement already satisfied: charset-normalizer<4,>=2 in c:\\users\\zamko\\documents\\graphs\\good_structure\\.venv\\lib\\site-packages (from requests<3.0.0,>=2.32.2->docling) (3.3.2)\n",
      "Requirement already satisfied: idna<4,>=2.5 in c:\\users\\zamko\\documents\\graphs\\good_structure\\.venv\\lib\\site-packages (from requests<3.0.0,>=2.32.2->docling) (3.8)\n",
      "Requirement already satisfied: urllib3<3,>=1.21.1 in c:\\users\\zamko\\documents\\graphs\\good_structure\\.venv\\lib\\site-packages (from requests<3.0.0,>=2.32.2->docling) (2.2.2)\n",
      "Requirement already satisfied: click>=8.0.0 in c:\\users\\zamko\\documents\\graphs\\good_structure\\.venv\\lib\\site-packages (from typer<0.13.0,>=0.12.5->docling) (8.1.7)\n",
      "Collecting shellingham>=1.3.0 (from typer<0.13.0,>=0.12.5->docling)\n",
      "  Using cached shellingham-1.5.4-py2.py3-none-any.whl.metadata (3.5 kB)\n",
      "Requirement already satisfied: rich>=10.11.0 in c:\\users\\zamko\\documents\\graphs\\good_structure\\.venv\\lib\\site-packages (from typer<0.13.0,>=0.12.5->docling) (13.9.4)\n",
      "Requirement already satisfied: colorama in c:\\users\\zamko\\documents\\graphs\\good_structure\\.venv\\lib\\site-packages (from click>=8.0.0->typer<0.13.0,>=0.12.5->docling) (0.4.6)\n",
      "Requirement already satisfied: attrs>=19.2.0 in c:\\users\\zamko\\documents\\graphs\\good_structure\\.venv\\lib\\site-packages (from jsonlines<4.0.0,>=3.1.0->docling-ibm-models<4.0.0,>=3.3.0->docling) (24.3.0)\n",
      "Requirement already satisfied: jsonschema-specifications>=2023.03.6 in c:\\users\\zamko\\documents\\graphs\\good_structure\\.venv\\lib\\site-packages (from jsonschema<5.0.0,>=4.16.0->docling-core<3.0.0,>=2.15.1->docling-core[chunking]<3.0.0,>=2.15.1->docling) (2024.10.1)\n",
      "Requirement already satisfied: referencing>=0.28.4 in c:\\users\\zamko\\documents\\graphs\\good_structure\\.venv\\lib\\site-packages (from jsonschema<5.0.0,>=4.16.0->docling-core<3.0.0,>=2.15.1->docling-core[chunking]<3.0.0,>=2.15.1->docling) (0.35.1)\n",
      "Requirement already satisfied: rpds-py>=0.7.1 in c:\\users\\zamko\\documents\\graphs\\good_structure\\.venv\\lib\\site-packages (from jsonschema<5.0.0,>=4.16.0->docling-core<3.0.0,>=2.15.1->docling-core[chunking]<3.0.0,>=2.15.1->docling) (0.22.3)\n",
      "Requirement already satisfied: six>=1.5 in c:\\users\\zamko\\documents\\graphs\\good_structure\\.venv\\lib\\site-packages (from python-dateutil>=2.8.2->pandas<3.0.0,>=2.1.4->docling) (1.16.0)\n",
      "Requirement already satisfied: markdown-it-py>=2.2.0 in c:\\users\\zamko\\documents\\graphs\\good_structure\\.venv\\lib\\site-packages (from rich>=10.11.0->typer<0.13.0,>=0.12.5->docling) (3.0.0)\n",
      "Requirement already satisfied: pygments<3.0.0,>=2.13.0 in c:\\users\\zamko\\documents\\graphs\\good_structure\\.venv\\lib\\site-packages (from rich>=10.11.0->typer<0.13.0,>=0.12.5->docling) (2.18.0)\n",
      "Collecting mpire[dill] (from semchunk<3.0.0,>=2.2.0->docling-core[chunking]<3.0.0,>=2.15.1->docling)\n",
      "  Downloading mpire-2.10.2-py3-none-any.whl.metadata (14 kB)\n",
      "Requirement already satisfied: sympy in c:\\users\\zamko\\documents\\graphs\\good_structure\\.venv\\lib\\site-packages (from torch<3.0.0,>=2.2.2->docling-ibm-models<4.0.0,>=3.3.0->docling) (1.12)\n",
      "Requirement already satisfied: networkx in c:\\users\\zamko\\documents\\graphs\\good_structure\\.venv\\lib\\site-packages (from torch<3.0.0,>=2.2.2->docling-ibm-models<4.0.0,>=3.3.0->docling) (3.2.1)\n",
      "Requirement already satisfied: jinja2 in c:\\users\\zamko\\documents\\graphs\\good_structure\\.venv\\lib\\site-packages (from torch<3.0.0,>=2.2.2->docling-ibm-models<4.0.0,>=3.3.0->docling) (3.1.3)\n",
      "Requirement already satisfied: setuptools in c:\\users\\zamko\\documents\\graphs\\good_structure\\.venv\\lib\\site-packages (from torch<3.0.0,>=2.2.2->docling-ibm-models<4.0.0,>=3.3.0->docling) (70.0.0)\n",
      "Collecting regex!=2019.12.17 (from transformers<5.0.0,>=4.34.0->docling-core[chunking]<3.0.0,>=2.15.1->docling)\n",
      "  Using cached regex-2024.11.6-cp312-cp312-win_amd64.whl.metadata (41 kB)\n",
      "Collecting tokenizers<0.22,>=0.21 (from transformers<5.0.0,>=4.34.0->docling-core[chunking]<3.0.0,>=2.15.1->docling)\n",
      "  Using cached tokenizers-0.21.0-cp39-abi3-win_amd64.whl.metadata (6.9 kB)\n",
      "Requirement already satisfied: imageio>=2.33 in c:\\users\\zamko\\documents\\graphs\\good_structure\\.venv\\lib\\site-packages (from scikit-image->easyocr<2.0,>=1.7->docling) (2.36.1)\n",
      "Requirement already satisfied: tifffile>=2022.8.12 in c:\\users\\zamko\\documents\\graphs\\good_structure\\.venv\\lib\\site-packages (from scikit-image->easyocr<2.0,>=1.7->docling) (2024.9.20)\n",
      "Requirement already satisfied: lazy-loader>=0.4 in c:\\users\\zamko\\documents\\graphs\\good_structure\\.venv\\lib\\site-packages (from scikit-image->easyocr<2.0,>=1.7->docling) (0.4)\n",
      "Requirement already satisfied: mdurl~=0.1 in c:\\users\\zamko\\documents\\graphs\\good_structure\\.venv\\lib\\site-packages (from markdown-it-py>=2.2.0->rich>=10.11.0->typer<0.13.0,>=0.12.5->docling) (0.1.2)\n",
      "Requirement already satisfied: MarkupSafe>=2.0 in c:\\users\\zamko\\documents\\graphs\\good_structure\\.venv\\lib\\site-packages (from jinja2->torch<3.0.0,>=2.2.2->docling-ibm-models<4.0.0,>=3.3.0->docling) (2.1.5)\n",
      "Collecting multiprocess>=0.70.15 (from mpire[dill]->semchunk<3.0.0,>=2.2.0->docling-core[chunking]<3.0.0,>=2.15.1->docling)\n",
      "  Downloading multiprocess-0.70.17-py312-none-any.whl.metadata (7.2 kB)\n",
      "Requirement already satisfied: mpmath>=0.19 in c:\\users\\zamko\\documents\\graphs\\good_structure\\.venv\\lib\\site-packages (from sympy->torch<3.0.0,>=2.2.2->docling-ibm-models<4.0.0,>=3.3.0->docling) (1.3.0)\n",
      "Collecting dill>=0.3.9 (from multiprocess>=0.70.15->mpire[dill]->semchunk<3.0.0,>=2.2.0->docling-core[chunking]<3.0.0,>=2.15.1->docling)\n",
      "  Downloading dill-0.3.9-py3-none-any.whl.metadata (10 kB)\n",
      "Downloading docling-2.16.0-py3-none-any.whl (120 kB)\n",
      "Using cached beautifulsoup4-4.12.3-py3-none-any.whl (147 kB)\n",
      "Downloading deepsearch_glm-1.0.0-cp312-cp312-win_amd64.whl (7.9 MB)\n",
      "   ---------------------------------------- 0.0/7.9 MB ? eta -:--:--\n",
      "   ---------------------------------------- 7.9/7.9 MB 81.3 MB/s eta 0:00:00\n",
      "Downloading docling_core-2.15.1-py3-none-any.whl (92 kB)\n",
      "Downloading docling_ibm_models-3.3.0-py3-none-any.whl (78 kB)\n",
      "Downloading docling_parse-3.1.2-cp312-cp312-win_amd64.whl (23.2 MB)\n",
      "   ---------------------------------------- 0.0/23.2 MB ? eta -:--:--\n",
      "   ---------------------------------------  23.1/23.2 MB 112.3 MB/s eta 0:00:01\n",
      "   ---------------------------------------- 23.2/23.2 MB 98.2 MB/s eta 0:00:00\n",
      "Using cached filetype-1.2.0-py2.py3-none-any.whl (19 kB)\n",
      "Using cached huggingface_hub-0.27.1-py3-none-any.whl (450 kB)\n",
      "Downloading marko-2.1.2-py3-none-any.whl (42 kB)\n",
      "Using cached pillow-10.4.0-cp312-cp312-win_amd64.whl (2.6 MB)\n",
      "Downloading pydantic-2.10.6-py3-none-any.whl (431 kB)\n",
      "Using cached pydantic_core-2.27.2-cp312-cp312-win_amd64.whl (2.0 MB)\n",
      "Downloading pydantic_settings-2.7.1-py3-none-any.whl (29 kB)\n",
      "Using cached pypdfium2-4.30.1-py3-none-win_amd64.whl (3.0 MB)\n",
      "Downloading python_pptx-1.0.2-py3-none-any.whl (472 kB)\n",
      "Using cached Rtree-1.3.0-py3-none-win_amd64.whl (377 kB)\n",
      "Downloading typer-0.12.5-py3-none-any.whl (47 kB)\n",
      "Downloading jsonlines-3.1.0-py3-none-any.whl (8.6 kB)\n",
      "Downloading jsonref-1.1.0-py3-none-any.whl (9.4 kB)\n",
      "Using cached python_dotenv-1.0.1-py3-none-any.whl (19 kB)\n",
      "Using cached pywin32-307-cp312-cp312-win_amd64.whl (6.5 MB)\n",
      "Using cached safetensors-0.5.2-cp38-abi3-win_amd64.whl (303 kB)\n",
      "Downloading semchunk-2.2.2-py3-none-any.whl (10 kB)\n",
      "Using cached shellingham-1.5.4-py2.py3-none-any.whl (9.8 kB)\n",
      "Using cached soupsieve-2.6-py3-none-any.whl (36 kB)\n",
      "Using cached tabulate-0.9.0-py3-none-any.whl (35 kB)\n",
      "Using cached transformers-4.48.1-py3-none-any.whl (9.7 MB)\n",
      "Downloading XlsxWriter-3.2.1-py3-none-any.whl (162 kB)\n",
      "Using cached regex-2024.11.6-cp312-cp312-win_amd64.whl (273 kB)\n",
      "Using cached tokenizers-0.21.0-cp39-abi3-win_amd64.whl (2.4 MB)\n",
      "Downloading multiprocess-0.70.17-py312-none-any.whl (147 kB)\n",
      "Downloading mpire-2.10.2-py3-none-any.whl (272 kB)\n",
      "Downloading dill-0.3.9-py3-none-any.whl (119 kB)\n",
      "Installing collected packages: pywin32, filetype, XlsxWriter, tabulate, soupsieve, shellingham, safetensors, rtree, regex, python-dotenv, pypdfium2, pydantic-core, pillow, marko, jsonref, jsonlines, dill, deepsearch-glm, python-pptx, pydantic, multiprocess, mpire, huggingface_hub, beautifulsoup4, typer, tokenizers, pydantic-settings, transformers, semchunk, docling-core, docling-parse, docling-ibm-models, docling\n",
      "  Attempting uninstall: pywin32\n",
      "    Found existing installation: pywin32 306\n",
      "    Uninstalling pywin32-306:\n",
      "      Successfully uninstalled pywin32-306\n",
      "  Attempting uninstall: pydantic-core\n",
      "    Found existing installation: pydantic_core 2.27.1\n",
      "    Uninstalling pydantic_core-2.27.1:\n",
      "      Successfully uninstalled pydantic_core-2.27.1\n",
      "  Attempting uninstall: pillow\n",
      "    Found existing installation: pillow 10.2.0\n",
      "    Uninstalling pillow-10.2.0:\n",
      "      Successfully uninstalled pillow-10.2.0\n",
      "  Attempting uninstall: pydantic\n",
      "    Found existing installation: pydantic 2.10.3\n",
      "    Uninstalling pydantic-2.10.3:\n",
      "      Successfully uninstalled pydantic-2.10.3\n",
      "Successfully installed XlsxWriter-3.2.1 beautifulsoup4-4.12.3 deepsearch-glm-1.0.0 dill-0.3.9 docling-2.16.0 docling-core-2.15.1 docling-ibm-models-3.3.0 docling-parse-3.1.2 filetype-1.2.0 huggingface_hub-0.27.1 jsonlines-3.1.0 jsonref-1.1.0 marko-2.1.2 mpire-2.10.2 multiprocess-0.70.17 pillow-10.4.0 pydantic-2.10.6 pydantic-core-2.27.2 pydantic-settings-2.7.1 pypdfium2-4.30.1 python-dotenv-1.0.1 python-pptx-1.0.2 pywin32-307 regex-2024.11.6 rtree-1.3.0 safetensors-0.5.2 semchunk-2.2.2 shellingham-1.5.4 soupsieve-2.6 tabulate-0.9.0 tokenizers-0.21.0 transformers-4.48.1 typer-0.12.5\n"
     ]
    }
   ],
   "source": [
    "pip install docling"
   ]
  },
  {
   "cell_type": "code",
   "execution_count": 2,
   "metadata": {},
   "outputs": [
    {
     "name": "stderr",
     "output_type": "stream",
     "text": [
      "c:\\Users\\zamko\\Documents\\mom_project\\repo\\.venv\\Lib\\site-packages\\tqdm\\auto.py:21: TqdmWarning: IProgress not found. Please update jupyter and ipywidgets. See https://ipywidgets.readthedocs.io/en/stable/user_install.html\n",
      "  from .autonotebook import tqdm as notebook_tqdm\n"
     ]
    }
   ],
   "source": [
    "from pathlib import Path\n",
    "from docling.backend.docling_parse_backend import DoclingParseDocumentBackend\n",
    "from docling.datamodel.base_models import InputFormat\n",
    "from docling.datamodel.pipeline_options import (\n",
    "    EasyOcrOptions,\n",
    "    OcrMacOptions,\n",
    "    PdfPipelineOptions,\n",
    "    RapidOcrOptions,\n",
    "    TesseractCliOcrOptions,\n",
    "    TesseractOcrOptions,\n",
    ")\n",
    "from docling.document_converter import DocumentConverter, PdfFormatOption"
   ]
  },
  {
   "cell_type": "code",
   "execution_count": 3,
   "metadata": {},
   "outputs": [
    {
     "name": "stderr",
     "output_type": "stream",
     "text": [
      "2025-01-27 18:28:32,776 - OrtInferSession - WARNING: DmlExecutionProvider is not in available providers (['AzureExecutionProvider', 'CPUExecutionProvider']). Use AzureExecutionProvider inference by default.\n",
      "2025-01-27 18:28:32,776 - OrtInferSession - INFO: If you want to use DirectML acceleration, you must do:\n",
      "2025-01-27 18:28:32,777 - OrtInferSession - INFO: First, uninstall all onnxruntime pakcages in current environment.\n",
      "2025-01-27 18:28:32,777 - OrtInferSession - INFO: Second, install onnxruntime-directml by `pip install onnxruntime-directml`\n",
      "2025-01-27 18:28:32,778 - OrtInferSession - INFO: Third, ensure DmlExecutionProvider is in available providers list. e.g. ['DmlExecutionProvider', 'CPUExecutionProvider']\n",
      "2025-01-27 18:28:32,855 - OrtInferSession - WARNING: DmlExecutionProvider is not in available providers (['AzureExecutionProvider', 'CPUExecutionProvider']). Use AzureExecutionProvider inference by default.\n",
      "2025-01-27 18:28:32,856 - OrtInferSession - INFO: If you want to use DirectML acceleration, you must do:\n",
      "2025-01-27 18:28:32,856 - OrtInferSession - INFO: First, uninstall all onnxruntime pakcages in current environment.\n",
      "2025-01-27 18:28:32,856 - OrtInferSession - INFO: Second, install onnxruntime-directml by `pip install onnxruntime-directml`\n",
      "2025-01-27 18:28:32,857 - OrtInferSession - INFO: Third, ensure DmlExecutionProvider is in available providers list. e.g. ['DmlExecutionProvider', 'CPUExecutionProvider']\n",
      "2025-01-27 18:28:32,899 - OrtInferSession - WARNING: DmlExecutionProvider is not in available providers (['AzureExecutionProvider', 'CPUExecutionProvider']). Use AzureExecutionProvider inference by default.\n",
      "2025-01-27 18:28:32,900 - OrtInferSession - INFO: If you want to use DirectML acceleration, you must do:\n",
      "2025-01-27 18:28:32,900 - OrtInferSession - INFO: First, uninstall all onnxruntime pakcages in current environment.\n",
      "2025-01-27 18:28:32,901 - OrtInferSession - INFO: Second, install onnxruntime-directml by `pip install onnxruntime-directml`\n",
      "2025-01-27 18:28:32,901 - OrtInferSession - INFO: Third, ensure DmlExecutionProvider is in available providers list. e.g. ['DmlExecutionProvider', 'CPUExecutionProvider']\n"
     ]
    }
   ],
   "source": [
    "\n",
    "input_doc = Path(\"./test_pics/valid_format/valid_questions-1.pdf\")\n",
    "\n",
    "pipeline_options = PdfPipelineOptions()\n",
    "pipeline_options.do_ocr = True\n",
    "pipeline_options.do_table_structure = True\n",
    "pipeline_options.table_structure_options.do_cell_matching = True\n",
    "\n",
    "# Any of the OCR options can be used:EasyOcrOptions, TesseractOcrOptions, TesseractCliOcrOptions, OcrMacOptions(Mac only), RapidOcrOptions\n",
    "# ocr_options = EasyOcrOptions(force_full_page_ocr=True)\n",
    "# ocr_options = TesseractOcrOptions(force_full_page_ocr=True)\n",
    "# ocr_options = OcrMacOptions(force_full_page_ocr=True)\n",
    "ocr_options = RapidOcrOptions(force_full_page_ocr=True)\n",
    "# ocr_options = TesseractCliOcrOptions(force_full_page_ocr=True)\n",
    "pipeline_options.ocr_options = ocr_options\n",
    "\n",
    "converter = DocumentConverter(\n",
    "    format_options={\n",
    "        InputFormat.PDF: PdfFormatOption(\n",
    "            pipeline_options=pipeline_options,\n",
    "        )\n",
    "    }\n",
    ")\n",
    "\n",
    "doc = converter.convert(input_doc).document\n",
    "md = doc.export_to_markdown()\n"
   ]
  },
  {
   "cell_type": "code",
   "execution_count": 5,
   "metadata": {},
   "outputs": [
    {
     "data": {
      "text/plain": [
       "'## EJIAHKOTBETOB\\n\\n<!-- image -->\\n\\n<!-- image -->\\n\\n<!-- image -->\\n\\nM\\n\\nA\\n\\nT\\n\\nE\\n\\nM\\n\\nA\\n\\nT\\n\\nИ\\n\\nK\\n\\nIIPEIMET\\n\\nA\\n\\n2\\n\\n3\\n\\n5\\n\\nKOIYYACTHNKA\\n\\nO\\n\\n2\\n\\nBAPИAHT\\n\\n3Hakamunocne3anamoi.Hocneomeema eounuubi u3mepeHuaumoukaHecmaeamca!\\n\\nIpumep:\\n\\n0\\n\\n3anOJIHaiTe reJIeBOi HJNKannJJIApHOipyYKOi YEPHbIMM YepHNJIaMN HIMOPAMM no cey1omnmoopa31am:\\n\\n1234567890\\n\\n## OTBeTbIK3aIAHHAM\\n\\n3aMeHaOIWMbOYHbIXoTBeTOBHa3aIaHMA\\n\\nNo1.\\n\\nNe1.\\n\\n3\\n\\n大\\n\\nNe2.\\n\\nNe2.\\n\\nNe3.\\n\\nNe3.\\n\\n3\\n\\nNo4.\\n\\nNe4.\\n\\nNe5.\\n\\nNe5.\\n\\nNo6.\\n\\nNe6.\\n\\nCL\\n\\nNe7.\\n\\nNe7.\\n\\nO\\n\\n5\\n\\nNe8.\\n\\nNe8.\\n\\n大\\n\\n5\\n\\nN9.\\n\\nN9.\\n\\nO\\n\\n大\\n\\nNe10.\\n\\nN10.'"
      ]
     },
     "execution_count": 5,
     "metadata": {},
     "output_type": "execute_result"
    }
   ],
   "source": [
    "md"
   ]
  },
  {
   "cell_type": "code",
   "execution_count": 14,
   "metadata": {},
   "outputs": [
    {
     "data": {
      "text/plain": [
       "DoclingDocument(schema_name='DoclingDocument', version='1.0.0', name='test', origin=DocumentOrigin(mimetype='application/pdf', binary_hash=1699748426769108670, filename='test.pdf', uri=None), furniture=GroupItem(self_ref='#/furniture', parent=None, children=[], name='_root_', label=<GroupLabel.UNSPECIFIED: 'unspecified'>), body=GroupItem(self_ref='#/body', parent=None, children=[RefItem(cref='#/texts/0'), RefItem(cref='#/texts/1'), RefItem(cref='#/texts/2'), RefItem(cref='#/texts/3'), RefItem(cref='#/texts/4'), RefItem(cref='#/texts/5'), RefItem(cref='#/texts/6'), RefItem(cref='#/texts/7'), RefItem(cref='#/tables/0'), RefItem(cref='#/texts/8'), RefItem(cref='#/texts/9'), RefItem(cref='#/texts/10'), RefItem(cref='#/texts/11'), RefItem(cref='#/texts/12'), RefItem(cref='#/texts/13'), RefItem(cref='#/texts/14'), RefItem(cref='#/texts/15'), RefItem(cref='#/texts/16'), RefItem(cref='#/texts/17'), RefItem(cref='#/texts/18')], name='_root_', label=<GroupLabel.UNSPECIFIED: 'unspecified'>), groups=[], texts=[TextItem(self_ref='#/texts/0', parent=RefItem(cref='#/body'), children=[], label=<DocItemLabel.TEXT: 'text'>, prov=[ProvenanceItem(page_no=1, bbox=BoundingBox(l=42.60000228881836, t=767.7959594726562, r=98.78400421142578, b=757.4639892578125, coord_origin=<CoordOrigin.BOTTOMLEFT: 'BOTTOMLEFT'>), charspan=(0, 7))], orig='ПРЕДМЕТ', text='ПРЕДМЕТ'), TextItem(self_ref='#/texts/1', parent=RefItem(cref='#/body'), children=[], label=<DocItemLabel.TEXT: 'text'>, prov=[ProvenanceItem(page_no=1, bbox=BoundingBox(l=42.60000228881836, t=731.7760009765625, r=144.7080078125, b=721.4439697265625, coord_origin=<CoordOrigin.BOTTOMLEFT: 'BOTTOMLEFT'>), charspan=(0, 13))], orig='КОД УЧАСТНИКА', text='КОД УЧАСТНИКА'), TextItem(self_ref='#/texts/2', parent=RefItem(cref='#/body'), children=[], label=<DocItemLabel.TEXT: 'text'>, prov=[ProvenanceItem(page_no=1, bbox=BoundingBox(l=42.60000228881836, t=695.2959594726562, r=99.13200378417969, b=684.9639892578125, coord_origin=<CoordOrigin.BOTTOMLEFT: 'BOTTOMLEFT'>), charspan=(0, 7))], orig='ВАРИАНТ', text='ВАРИАНТ'), TextItem(self_ref='#/texts/3', parent=RefItem(cref='#/body'), children=[], label=<DocItemLabel.TEXT: 'text'>, prov=[ProvenanceItem(page_no=1, bbox=BoundingBox(l=48.2400016784668, t=667.9840087890625, r=563.0399780273438, b=618.1709594726562, coord_origin=<CoordOrigin.BOTTOMLEFT: 'BOTTOMLEFT'>), charspan=(0, 177))], orig='Ответом  к  каждому  заданию  является  целое  число  или  конечная  десятичная  дробь  с  1-2 знаками после запятой. После ответа единицы измерения и точка не ставятся! Пример:', text='Ответом  к  каждому  заданию  является  целое  число  или  конечная  десятичная  дробь  с  1-2 знаками после запятой. После ответа единицы измерения и точка не ставятся! Пример:'), TextItem(self_ref='#/texts/4', parent=RefItem(cref='#/body'), children=[], label=<DocItemLabel.TEXT: 'text'>, prov=[ProvenanceItem(page_no=1, bbox=BoundingBox(l=66.0, t=610.2532958984375, r=78.66666412353516, b=596.2532958984375, coord_origin=<CoordOrigin.BOTTOMLEFT: 'BOTTOMLEFT'>), charspan=(0, 1))], orig='0', text='0'), TextItem(self_ref='#/texts/5', parent=RefItem(cref='#/body'), children=[], label=<DocItemLabel.TEXT: 'text'>, prov=[ProvenanceItem(page_no=1, bbox=BoundingBox(l=84.0, t=602.9199829101562, r=90.66666412353516, b=594.9199829101562, coord_origin=<CoordOrigin.BOTTOMLEFT: 'BOTTOMLEFT'>), charspan=(0, 1))], orig='3', text='3'), TextItem(self_ref='#/texts/6', parent=RefItem(cref='#/body'), children=[], label=<DocItemLabel.TEXT: 'text'>, prov=[ProvenanceItem(page_no=1, bbox=BoundingBox(l=96.33333587646484, t=611.9199829101562, r=123.66666412353516, b=595.9199829101562, coord_origin=<CoordOrigin.BOTTOMLEFT: 'BOTTOMLEFT'>), charspan=(0, 3))], orig='219', text='219'), TextItem(self_ref='#/texts/7', parent=RefItem(cref='#/body'), children=[], label=<DocItemLabel.TEXT: 'text'>, prov=[ProvenanceItem(page_no=1, bbox=BoundingBox(l=42.60000228881836, t=569.31396484375, r=555.6500244140625, b=543.3809814453125, coord_origin=<CoordOrigin.BOTTOMLEFT: 'BOTTOMLEFT'>), charspan=(0, 101))], orig='Заполняйте  гелевой  или  капиллярной  ручкой  ЧЕРНЫМИ  чернилами  и  ЦИФРАМИ  по следующим образцам:', text='Заполняйте  гелевой  или  капиллярной  ручкой  ЧЕРНЫМИ  чернилами  и  ЦИФРАМИ  по следующим образцам:'), TextItem(self_ref='#/texts/8', parent=RefItem(cref='#/body'), children=[], label=<DocItemLabel.TEXT: 'text'>, prov=[ProvenanceItem(page_no=1, bbox=BoundingBox(l=173.90000915527344, t=773.3159790039062, r=187.61000061035156, b=762.9840087890625, coord_origin=<CoordOrigin.BOTTOMLEFT: 'BOTTOMLEFT'>), charspan=(0, 1))], orig='М', text='М'), TextItem(self_ref='#/texts/9', parent=RefItem(cref='#/body'), children=[], label=<DocItemLabel.TEXT: 'text'>, prov=[ProvenanceItem(page_no=1, bbox=BoundingBox(l=198.1699981689453, t=773.3159790039062, r=209.80999755859375, b=762.9840087890625, coord_origin=<CoordOrigin.BOTTOMLEFT: 'BOTTOMLEFT'>), charspan=(0, 1))], orig='А', text='А'), TextItem(self_ref='#/texts/10', parent=RefItem(cref='#/body'), children=[], label=<DocItemLabel.TEXT: 'text'>, prov=[ProvenanceItem(page_no=1, bbox=BoundingBox(l=222.29000854492188, t=773.3159790039062, r=232.61000061035156, b=762.9840087890625, coord_origin=<CoordOrigin.BOTTOMLEFT: 'BOTTOMLEFT'>), charspan=(0, 1))], orig='Т', text='Т'), TextItem(self_ref='#/texts/11', parent=RefItem(cref='#/body'), children=[], label=<DocItemLabel.TEXT: 'text'>, prov=[ProvenanceItem(page_no=1, bbox=BoundingBox(l=245.57000732421875, t=773.3159790039062, r=255.88999938964844, b=762.9840087890625, coord_origin=<CoordOrigin.BOTTOMLEFT: 'BOTTOMLEFT'>), charspan=(0, 1))], orig='Е', text='Е'), TextItem(self_ref='#/texts/12', parent=RefItem(cref='#/body'), children=[], label=<DocItemLabel.TEXT: 'text'>, prov=[ProvenanceItem(page_no=1, bbox=BoundingBox(l=267.1700134277344, t=773.3159790039062, r=280.8500061035156, b=762.9840087890625, coord_origin=<CoordOrigin.BOTTOMLEFT: 'BOTTOMLEFT'>), charspan=(0, 1))], orig='М', text='М'), TextItem(self_ref='#/texts/13', parent=RefItem(cref='#/body'), children=[], label=<DocItemLabel.TEXT: 'text'>, prov=[ProvenanceItem(page_no=1, bbox=BoundingBox(l=291.5299987792969, t=773.3159790039062, r=303.1700134277344, b=762.9840087890625, coord_origin=<CoordOrigin.BOTTOMLEFT: 'BOTTOMLEFT'>), charspan=(0, 1))], orig='А', text='А'), TextItem(self_ref='#/texts/14', parent=RefItem(cref='#/body'), children=[], label=<DocItemLabel.TEXT: 'text'>, prov=[ProvenanceItem(page_no=1, bbox=BoundingBox(l=315.42999267578125, t=773.3159790039062, r=325.75, b=762.9840087890625, coord_origin=<CoordOrigin.BOTTOMLEFT: 'BOTTOMLEFT'>), charspan=(0, 1))], orig='Т', text='Т'), TextItem(self_ref='#/texts/15', parent=RefItem(cref='#/body'), children=[], label=<DocItemLabel.TEXT: 'text'>, prov=[ProvenanceItem(page_no=1, bbox=BoundingBox(l=338.2300109863281, t=773.3159790039062, r=349.8699951171875, b=762.9840087890625, coord_origin=<CoordOrigin.BOTTOMLEFT: 'BOTTOMLEFT'>), charspan=(0, 1))], orig='И', text='И'), TextItem(self_ref='#/texts/16', parent=RefItem(cref='#/body'), children=[], label=<DocItemLabel.TEXT: 'text'>, prov=[ProvenanceItem(page_no=1, bbox=BoundingBox(l=361.8699951171875, t=773.3159790039062, r=372.9100036621094, b=762.9840087890625, coord_origin=<CoordOrigin.BOTTOMLEFT: 'BOTTOMLEFT'>), charspan=(0, 1))], orig='К', text='К'), TextItem(self_ref='#/texts/17', parent=RefItem(cref='#/body'), children=[], label=<DocItemLabel.TEXT: 'text'>, prov=[ProvenanceItem(page_no=1, bbox=BoundingBox(l=384.9100036621094, t=773.3159790039062, r=396.5500183105469, b=762.9840087890625, coord_origin=<CoordOrigin.BOTTOMLEFT: 'BOTTOMLEFT'>), charspan=(0, 1))], orig='А', text='А'), SectionHeaderItem(self_ref='#/texts/18', parent=RefItem(cref='#/body'), children=[], label=<DocItemLabel.SECTION_HEADER: 'section_header'>, prov=[ProvenanceItem(page_no=1, bbox=BoundingBox(l=245.08999633789062, t=810.56396484375, r=353.3500061035156, b=800.4710083007812, coord_origin=<CoordOrigin.BOTTOMLEFT: 'BOTTOMLEFT'>), charspan=(0, 13))], orig='БЛАНК ОТВЕТОВ', text='БЛАНК ОТВЕТОВ', level=1)], pictures=[], tables=[TableItem(self_ref='#/tables/0', parent=RefItem(cref='#/body'), children=[], label=<DocItemLabel.TABLE: 'table'>, prov=[ProvenanceItem(page_no=1, bbox=BoundingBox(l=35.8445930480957, t=482.12518310546875, r=557.8673095703125, b=47.07818603515625, coord_origin=<CoordOrigin.BOTTOMLEFT: 'BOTTOMLEFT'>), charspan=(0, 0))], captions=[], references=[], footnotes=[], image=None, data=TableData(table_cells=[TableCell(bbox=BoundingBox(l=112.70000457763672, t=477.27398681640625, r=225.29000854492188, b=467.1809997558594, coord_origin=<CoordOrigin.BOTTOMLEFT: 'BOTTOMLEFT'>), row_span=1, col_span=1, start_row_offset_idx=0, end_row_offset_idx=1, start_col_offset_idx=0, end_col_offset_idx=1, text='Ответы  к заданиям', column_header=True, row_header=False, row_section=False), TableCell(bbox=BoundingBox(l=309.5500183105469, t=477.27398681640625, r=549.3599853515625, b=467.1809997558594, coord_origin=<CoordOrigin.BOTTOMLEFT: 'BOTTOMLEFT'>), row_span=1, col_span=1, start_row_offset_idx=0, end_row_offset_idx=1, start_col_offset_idx=1, end_col_offset_idx=2, text='Замена ОШИБОЧНЫХ ответов на задания', column_header=True, row_header=False, row_section=False)], num_rows=1, num_cols=2, grid=[[TableCell(bbox=BoundingBox(l=112.70000457763672, t=477.27398681640625, r=225.29000854492188, b=467.1809997558594, coord_origin=<CoordOrigin.BOTTOMLEFT: 'BOTTOMLEFT'>), row_span=1, col_span=1, start_row_offset_idx=0, end_row_offset_idx=1, start_col_offset_idx=0, end_col_offset_idx=1, text='Ответы  к заданиям', column_header=True, row_header=False, row_section=False), TableCell(bbox=BoundingBox(l=309.5500183105469, t=477.27398681640625, r=549.3599853515625, b=467.1809997558594, coord_origin=<CoordOrigin.BOTTOMLEFT: 'BOTTOMLEFT'>), row_span=1, col_span=1, start_row_offset_idx=0, end_row_offset_idx=1, start_col_offset_idx=1, end_col_offset_idx=2, text='Замена ОШИБОЧНЫХ ответов на задания', column_header=True, row_header=False, row_section=False)]]))], key_value_items=[], pages={1: PageItem(size=Size(width=595.3200073242188, height=841.9199829101562), image=None, page_no=1)})"
      ]
     },
     "execution_count": 14,
     "metadata": {},
     "output_type": "execute_result"
    }
   ],
   "source": [
    "doc"
   ]
  },
  {
   "cell_type": "code",
   "execution_count": 25,
   "metadata": {},
   "outputs": [
    {
     "name": "stdout",
     "output_type": "stream",
     "text": [
      "Collecting tesserocr\n",
      "  Downloading tesserocr-2.7.1.tar.gz (71 kB)\n",
      "  Installing build dependencies: started\n",
      "  Installing build dependencies: finished with status 'done'\n",
      "  Getting requirements to build wheel: started\n",
      "  Getting requirements to build wheel: finished with status 'error'\n",
      "Note: you may need to restart the kernel to use updated packages.\n"
     ]
    },
    {
     "name": "stderr",
     "output_type": "stream",
     "text": [
      "  error: subprocess-exited-with-error\n",
      "  \n",
      "  × Getting requirements to build wheel did not run successfully.\n",
      "  │ exit code: 1\n",
      "  ╰─> [38 lines of output]\n",
      "      Failed to extract tesseract version from executable: [WinError 2] The system cannot find the file specified\n",
      "      Supporting tesseract v3.04.00\n",
      "      Tesseract major version 3\n",
      "      Traceback (most recent call last):\n",
      "        File \"<string>\", line 239, in get_build_args\n",
      "        File \"<string>\", line 105, in package_config\n",
      "        File \"C:\\Users\\zamko\\AppData\\Local\\Programs\\Python\\Python312\\Lib\\subprocess.py\", line 1026, in __init__\n",
      "          self._execute_child(args, executable, preexec_fn, close_fds,\n",
      "        File \"C:\\Users\\zamko\\AppData\\Local\\Programs\\Python\\Python312\\Lib\\subprocess.py\", line 1538, in _execute_child\n",
      "          hp, ht, pid, tid = _winapi.CreateProcess(executable, args,\n",
      "                             ^^^^^^^^^^^^^^^^^^^^^^^^^^^^^^^^^^^^^^^\n",
      "      FileNotFoundError: [WinError 2] The system cannot find the file specified\n",
      "      \n",
      "      During handling of the above exception, another exception occurred:\n",
      "      \n",
      "      Traceback (most recent call last):\n",
      "        File \"c:\\Users\\zamko\\Documents\\graphs\\good_structure\\.venv\\Lib\\site-packages\\pip\\_vendor\\pyproject_hooks\\_in_process\\_in_process.py\", line 353, in <module>\n",
      "          main()\n",
      "        File \"c:\\Users\\zamko\\Documents\\graphs\\good_structure\\.venv\\Lib\\site-packages\\pip\\_vendor\\pyproject_hooks\\_in_process\\_in_process.py\", line 335, in main\n",
      "          json_out['return_val'] = hook(**hook_input['kwargs'])\n",
      "                                   ^^^^^^^^^^^^^^^^^^^^^^^^^^^^\n",
      "        File \"c:\\Users\\zamko\\Documents\\graphs\\good_structure\\.venv\\Lib\\site-packages\\pip\\_vendor\\pyproject_hooks\\_in_process\\_in_process.py\", line 118, in get_requires_for_build_wheel\n",
      "          return hook(config_settings)\n",
      "                 ^^^^^^^^^^^^^^^^^^^^^\n",
      "        File \"C:\\Users\\zamko\\AppData\\Local\\Temp\\pip-build-env-xve4mzqz\\overlay\\Lib\\site-packages\\setuptools\\build_meta.py\", line 334, in get_requires_for_build_wheel\n",
      "          return self._get_build_requires(config_settings, requirements=[])\n",
      "                 ^^^^^^^^^^^^^^^^^^^^^^^^^^^^^^^^^^^^^^^^^^^^^^^^^^^^^^^^^^\n",
      "        File \"C:\\Users\\zamko\\AppData\\Local\\Temp\\pip-build-env-xve4mzqz\\overlay\\Lib\\site-packages\\setuptools\\build_meta.py\", line 304, in _get_build_requires\n",
      "          self.run_setup()\n",
      "        File \"C:\\Users\\zamko\\AppData\\Local\\Temp\\pip-build-env-xve4mzqz\\overlay\\Lib\\site-packages\\setuptools\\build_meta.py\", line 522, in run_setup\n",
      "          super().run_setup(setup_script=setup_script)\n",
      "        File \"C:\\Users\\zamko\\AppData\\Local\\Temp\\pip-build-env-xve4mzqz\\overlay\\Lib\\site-packages\\setuptools\\build_meta.py\", line 320, in run_setup\n",
      "          exec(code, locals())\n",
      "        File \"<string>\", line 324, in <module>\n",
      "        File \"<string>\", line 254, in make_extension\n",
      "        File \"<string>\", line 246, in get_build_args\n",
      "        File \"<string>\", line 212, in get_tesseract_version\n",
      "      RuntimeError: Tesseract library not found in LIBPATH: []\n",
      "      [end of output]\n",
      "  \n",
      "  note: This error originates from a subprocess, and is likely not a problem with pip.\n",
      "\n",
      "[notice] A new release of pip is available: 24.2 -> 25.0\n",
      "[notice] To update, run: python.exe -m pip install --upgrade pip\n",
      "error: subprocess-exited-with-error\n",
      "\n",
      "× Getting requirements to build wheel did not run successfully.\n",
      "│ exit code: 1\n",
      "╰─> See above for output.\n",
      "\n",
      "note: This error originates from a subprocess, and is likely not a problem with pip.\n"
     ]
    }
   ],
   "source": [
    "pip install tesserocr"
   ]
  },
  {
   "cell_type": "code",
   "execution_count": null,
   "metadata": {},
   "outputs": [],
   "source": []
  }
 ],
 "metadata": {
  "kernelspec": {
   "display_name": ".venv",
   "language": "python",
   "name": "python3"
  },
  "language_info": {
   "codemirror_mode": {
    "name": "ipython",
    "version": 3
   },
   "file_extension": ".py",
   "mimetype": "text/x-python",
   "name": "python",
   "nbconvert_exporter": "python",
   "pygments_lexer": "ipython3",
   "version": "3.12.5"
  }
 },
 "nbformat": 4,
 "nbformat_minor": 2
}
